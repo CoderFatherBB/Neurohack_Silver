{
 "cells": [
  {
   "cell_type": "code",
   "execution_count": 8,
   "metadata": {},
   "outputs": [
    {
     "name": "stdout",
     "output_type": "stream",
     "text": [
      "Text and annotations have been saved in the 'output_data' folder.\n"
     ]
    }
   ],
   "source": [
    "import pytesseract\n",
    "from PIL import Image, ImageDraw\n",
    "import os\n",
    "\n",
    "\n",
    "pytesseract.pytesseract.tesseract_cmd = '/opt/homebrew/bin/tesseract'  \n",
    "\n",
    "\n",
    "os.makedirs('output_data', exist_ok=True)\n",
    "\n",
    "\n",
    "image_path = 'images-3.png'  \n",
    "image = Image.open(image_path)\n",
    "\n",
    "\n",
    "ocr_data = pytesseract.image_to_boxes(image)  \n",
    "\n",
    "\n",
    "draw = ImageDraw.Draw(image)\n",
    "\n",
    "\n",
    "txt_output = os.path.splitext(os.path.basename(image_path))[0] + '_output.txt'\n",
    "annotations_output = os.path.splitext(os.path.basename(image_path))[0] + '_annotations.txt'\n",
    "\n",
    "\n",
    "with open(os.path.join('output_data', txt_output), 'w') as f:\n",
    "    f.write(pytesseract.image_to_string(image))  \n",
    "\n",
    "\n",
    "with open(os.path.join('output_data', annotations_output), 'w') as f:\n",
    "    for line in ocr_data.splitlines():\n",
    "        character, x1, y1, x2, y2, _ = line.split()\n",
    "        \n",
    "        f.write(f\"{character} {x1} {y1} {x2} {y2}\\n\")\n",
    "\n",
    "        \n",
    "        draw.rectangle(((int(x1), image.size[1] - int(y2)), (int(x2), image.size[1] - int(y1))), outline=\"red\")\n",
    "\n",
    "\n",
    "image.save(os.path.join('output_data', 'boxed_' + os.path.basename(image_path)))\n",
    "\n",
    "print(f\"Text and annotations have been saved in the 'output_data' folder.\")\n"
   ]
  }
 ],
 "metadata": {
  "kernelspec": {
   "display_name": "dpl",
   "language": "python",
   "name": "python3"
  },
  "language_info": {
   "codemirror_mode": {
    "name": "ipython",
    "version": 3
   },
   "file_extension": ".py",
   "mimetype": "text/x-python",
   "name": "python",
   "nbconvert_exporter": "python",
   "pygments_lexer": "ipython3",
   "version": "3.10.14"
  }
 },
 "nbformat": 4,
 "nbformat_minor": 2
}
