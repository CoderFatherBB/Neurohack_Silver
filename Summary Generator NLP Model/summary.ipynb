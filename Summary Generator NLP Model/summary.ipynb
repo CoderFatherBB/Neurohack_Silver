{
 "cells": [
  {
   "cell_type": "code",
   "execution_count": 3,
   "metadata": {},
   "outputs": [
    {
     "name": "stdout",
     "output_type": "stream",
     "text": [
      "Summarized Text:\n",
      "global warming is causing shifts in weather patterns, rising sea levels, and more frequent extreme weather events. the impacts of climate change are already being felt across the world, particularly in vulnerable communities that have contributed the least to the problem.\n"
     ]
    }
   ],
   "source": [
    "from transformers import T5Tokenizer, T5ForConditionalGeneration\n",
    "import sentencepiece\n",
    "import torch\n",
    "\n",
    "\n",
    "model_name = 't5-small'  \n",
    "tokenizer = T5Tokenizer.from_pretrained(model_name)\n",
    "model = T5ForConditionalGeneration.from_pretrained(model_name)\n",
    "\n",
    "\n",
    "def summarize_text(file_path, max_length=150, min_length=40):\n",
    "    \n",
    "    with open(file_path, 'r', encoding='utf-8') as file:\n",
    "        text = file.read()\n",
    "\n",
    "    \n",
    "    inputs = tokenizer.encode(\"summarize: \" + text, return_tensors=\"pt\", max_length=512, truncation=True)\n",
    "\n",
    "    \n",
    "    summary_ids = model.generate(inputs, max_length=max_length, min_length=min_length, length_penalty=2.0, num_beams=4, early_stopping=True)\n",
    "\n",
    "    \n",
    "    summary = tokenizer.decode(summary_ids[0], skip_special_tokens=True)\n",
    "    return summary\n",
    "\n",
    "\n",
    "input_file = 'try2.txt'\n",
    "\n",
    "\n",
    "summarized_text = summarize_text(input_file)\n",
    "\n",
    "\n",
    "print(\"Summarized Text:\")\n",
    "print(summarized_text)\n",
    "\n",
    "\n",
    "with open('summarized_output.txt', 'w', encoding='utf-8') as output_file:\n",
    "    output_file.write(summarized_text)\n"
   ]
  },
  {
   "cell_type": "code",
   "execution_count": null,
   "metadata": {},
   "outputs": [],
   "source": []
  }
 ],
 "metadata": {
  "kernelspec": {
   "display_name": "dpl",
   "language": "python",
   "name": "python3"
  },
  "language_info": {
   "codemirror_mode": {
    "name": "ipython",
    "version": 3
   },
   "file_extension": ".py",
   "mimetype": "text/x-python",
   "name": "python",
   "nbconvert_exporter": "python",
   "pygments_lexer": "ipython3",
   "version": "3.10.14"
  }
 },
 "nbformat": 4,
 "nbformat_minor": 2
}
